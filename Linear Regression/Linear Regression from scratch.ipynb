{
 "cells": [
  {
   "cell_type": "markdown",
   "metadata": {},
   "source": [
    "# Linear Regression with Python\n",
    "\n",
    "Linear regression is a Supervised machine Learning problem and is a linear approach to modeling the relationship between a scalar response (or dependent variable) and one or more explanatory variables (or independent variables). \n",
    "\n",
    "Assumptions of Linear Regression:\n",
    "\n",
    "\n",
    "1.   Linearity - Relationship between dependant and independant variables must be Linear\n",
    "2.   Homoscedasticity - The variance of residual is the same for any value of independant variable\n",
    "3.   Independance - Observations are independant of each other\n",
    "4.   Normality - For any kind of independant variable, dependant variable is normally distributed"
   ]
  },
  {
   "cell_type": "markdown",
   "metadata": {},
   "source": [
    "# Simple Linear Regression\n",
    "\n",
    "Mathmatically, they can be represented as below:\n",
    "\n",
    "Simple Linear Regression: $$ y = \\beta_0 + \\beta_1 x $$\n",
    "\n",
    "Hypothesis: $$y' = \\beta_0 + \\beta_1 x $$\n",
    "\n",
    "\n",
    "Hypothesis of Simple Linear Regression is basically equation of a straight line with slope of $\\beta$$_1$ and intercept of $\\beta$$_0$. By varying the slope and intercept, any linear relationship between two variables can be determined.\n",
    "\n",
    "$$ \\beta_0 = \\mu(y) - \\beta_1 * \\mu(x) $$\n",
    "$$ \\beta_1 = Sxy/Sxx $$\n",
    "\n",
    "In the following graph, data is represented as green dots. As it can be inferred, when value of $\\beta$$_1$ is 1 and $\\beta$$_0$ is 1, trend line matches the data trend\n",
    "\n",
    "![alt text](https://drive.google.com/uc?export=view&id=16a75p6AwrF6ZeeD-mYSWppQpX-M7vW5W)"
   ]
  },
  {
   "cell_type": "markdown",
   "metadata": {},
   "source": [
    "## Error and Residual\n",
    "\n",
    "![alt text](https://drive.google.com/uc?export=view&id=1ZuxUNExH52XLLf5TPmPJP3UDMzj4QA2Y)\n",
    "\n",
    "A residual is the vertical distance between a data point and the regression line. Each data point has one residual. They are positive if they are above the regression line and negative if they are below the regression line. Error can be found as Absolute error, Mean Absolute error, Squared Mean Error etc."
   ]
  },
  {
   "cell_type": "code",
   "execution_count": 1,
   "metadata": {},
   "outputs": [],
   "source": [
    "#Importing important libraries\n",
    "\n",
    "import csv\n",
    "import pandas as pd\n",
    "import numpy as np\n",
    "import matplotlib.pyplot as plt"
   ]
  },
  {
   "cell_type": "code",
   "execution_count": 2,
   "metadata": {},
   "outputs": [],
   "source": [
    "# Function to read data from csv file\n",
    "\n",
    "def read_csv(filename):\n",
    "    inc = []\n",
    "    hap = []\n",
    "    with open(filename) as f:\n",
    "        reader = csv.reader(f)\n",
    "        next(reader)\n",
    "        for row in reader:\n",
    "            inc.append(float(row[0]))\n",
    "            hap.append(float(row[1]))\n",
    "        income = np.array(inc)\n",
    "        happiness = np.array(hap)\n",
    "        return income, happiness"
   ]
  },
  {
   "cell_type": "code",
   "execution_count": 23,
   "metadata": {},
   "outputs": [],
   "source": [
    "# Function to plot scatter plot\n",
    "\n",
    "def scatter_plot(x, y):\n",
    "    plt.scatter(x, y, color = 'green')\n",
    "    plt.xlabel('income')\n",
    "    plt.ylabel('happiness')\n",
    "    plt.show()"
   ]
  },
  {
   "cell_type": "code",
   "execution_count": 4,
   "metadata": {},
   "outputs": [],
   "source": [
    "# Function to calculate value of beta_1 i.e. slope of the line\n",
    "\n",
    "def cal_beta_1(x,y,mean_y, mean_x) :\n",
    "    diff_x = x-mean_x\n",
    "    diff_y = y-mean_y\n",
    "    Sxx = np.sum(diff_x**2)\n",
    "    Sxy = np.sum(diff_y*diff_x)\n",
    "    beta_1 = Sxy/Sxx\n",
    "    return beta_1,Sxy"
   ]
  },
  {
   "cell_type": "code",
   "execution_count": 5,
   "metadata": {},
   "outputs": [],
   "source": [
    "# Function to calculate value of beta_0 i.e. the intercept of the line\n",
    "\n",
    "def cal_beta_0(x, y, mean_y, mean_x, beta_1) :\n",
    "    beta_0 = mean_y - (beta_1 * mean_x)\n",
    "    return beta_0   "
   ]
  },
  {
   "cell_type": "code",
   "execution_count": 7,
   "metadata": {},
   "outputs": [],
   "source": [
    "# Driver Code\n",
    "\n",
    "#Reading data from a csv file\n",
    "income, happiness = read_csv('income_data.csv')"
   ]
  },
  {
   "cell_type": "code",
   "execution_count": 24,
   "metadata": {},
   "outputs": [
    {
     "name": "stdout",
     "output_type": "stream",
     "text": [
      "Scatter plot between observed variable and response variable :\n",
      "\n"
     ]
    },
    {
     "data": {
      "image/png": "[encoded data removed]",
      "text/plain": [
       "<Figure size 432x288 with 1 Axes>"
      ]
     },
     "metadata": {
      "needs_background": "light"
     },
     "output_type": "display_data"
    }
   ],
   "source": [
    "#Scatter plot of observed and response variable\n",
    "\n",
    "print(\"Scatter plot between observed variable and response variable :\\n\")\n",
    "scatter_plot(income, happiness)"
   ]
  },
  {
   "cell_type": "markdown",
   "metadata": {},
   "source": [
    "#### Inference:\n",
    "- Income and happiness are linearly related"
   ]
  },
  {
   "cell_type": "code",
   "execution_count": 9,
   "metadata": {},
   "outputs": [
    {
     "name": "stdout",
     "output_type": "stream",
     "text": [
      "Correlation matrix is :\n",
      " [[1.         0.86563373]\n",
      " [0.86563373 1.        ]]\n"
     ]
    }
   ],
   "source": [
    "#Calculating correlation matrix of observed and response variable  \n",
    "\n",
    "correlation = np.corrcoef(income, happiness)\n",
    "print(\"Correlation matrix is :\\n\",correlation)"
   ]
  },
  {
   "cell_type": "markdown",
   "metadata": {},
   "source": [
    "#### Inference:\n",
    "- There is high positive correlation between the Independent variable `Income` and Dependent variable `happiness`"
   ]
  },
  {
   "cell_type": "code",
   "execution_count": 10,
   "metadata": {},
   "outputs": [],
   "source": [
    "#Calclating mean of response variable\n",
    "mean_happiness = np.mean(happiness)\n",
    "    \n",
    "#Calculating mean of observed variable\n",
    "mean_income = np.mean(income)"
   ]
  },
  {
   "cell_type": "code",
   "execution_count": 11,
   "metadata": {},
   "outputs": [
    {
     "name": "stdout",
     "output_type": "stream",
     "text": [
      "\n",
      "Value of beta_0 is : 0.20\n",
      "\n",
      "Value of beta_1 is : 0.71\n"
     ]
    }
   ],
   "source": [
    "#Calculating value of slope i.e. beta_1\n",
    "beta_1 ,Sxy= cal_beta_1(income, happiness, mean_happiness, mean_income)\n",
    "    \n",
    "#calculating value of intercept i.e. beta_0\n",
    "beta_0 = cal_beta_0(income, happiness, mean_happiness, mean_income, beta_1)\n",
    "    \n",
    "print(\"\\nValue of beta_0 is : {:.2f}\".format(beta_0))\n",
    "print(\"\\nValue of beta_1 is : {:.2f}\".format(beta_1))    "
   ]
  },
  {
   "cell_type": "code",
   "execution_count": 17,
   "metadata": {},
   "outputs": [
    {
     "name": "stdout",
     "output_type": "stream",
     "text": [
      "pred_y = 0.204 + 0.714 * income\n",
      "\n",
      "Scatter plot between observed variable and predicted value :\n",
      "\n"
     ]
    },
    {
     "data": {
      "image/png": "[encoded data removed]",
      "text/plain": [
       "<Figure size 432x288 with 1 Axes>"
      ]
     },
     "metadata": {
      "needs_background": "light"
     },
     "output_type": "display_data"
    }
   ],
   "source": [
    "#Creating the fitted line\n",
    "\n",
    "pred_y = beta_0 + beta_1 * income\n",
    "print(\"pred_y = {:.3f} + {:.3f} * income\".format(beta_0,beta_1))\n",
    "\n",
    "#plotting fitted line\n",
    "print(\"\\nScatter plot between observed variable and predicted value :\\n\")\n",
    "scatter_plot(income , pred_y)    "
   ]
  },
  {
   "cell_type": "code",
   "execution_count": 14,
   "metadata": {},
   "outputs": [],
   "source": [
    "#Calculating error term\n",
    "error = happiness - pred_y\n",
    "    \n",
    "#Calculating sum of squares of residuals i.e. SSres\n",
    "SSres = np.sum(error**2)\n",
    "    \n",
    "#Calculating sum of squares of regression i.e. SSreg\n",
    "SSreg = beta_1 * Sxy\n",
    "    \n",
    "#Calculating total sum of squares i.e. SSt\n",
    "SSt = SSres + SSreg\n",
    "    \n",
    "#Calculating value of R-squared\n",
    "R_squared = 1 - (SSres / SSt)\n",
    "    \n",
    "#Calculating degrees of freedom\n",
    "df_res = np.size(income) - 2\n",
    "df_reg = 1\n",
    "df_total = np.size(income) - 1\n",
    "    \n",
    "#Calculating residual mean square i.e. MSres\n",
    "MSres = SSres / df_res\n",
    "    \n",
    "#Calculating regression mean square i.e. MSreg\n",
    "MSreg = SSreg / df_reg\n",
    "    \n",
    "#Calculating F-statistic\n",
    "F = MSreg / MSres"
   ]
  },
  {
   "cell_type": "code",
   "execution_count": 15,
   "metadata": {},
   "outputs": [
    {
     "name": "stdout",
     "output_type": "stream",
     "text": [
      "R_squared is : 0.749 \n",
      "\n",
      "ANOVA Table :\n",
      "\n",
      "            Sum of square  Degrees of Freedom  Mean Square  F-statistic\n",
      "Regression     764.546359                   1   764.546359  1482.632007\n",
      "Residual       255.771488                 496     0.515668          NaN\n",
      "Total         1020.317847                 497          NaN          NaN\n"
     ]
    }
   ],
   "source": [
    "print(\"R_squared is : {:.3f} \".format(R_squared))\n",
    "print(\"\\nANOVA Table :\\n\")\n",
    "    \n",
    "source_of_variation = ['Regression', 'Residual', 'Total']\n",
    "data = [[ SSreg , df_reg, MSreg, F],[SSres, df_res, MSres], [SSt, df_total]]\n",
    "df = pd.DataFrame(data, columns =['Sum of square', 'Degrees of Freedom', 'Mean Square',\n",
    "                                      'F-statistic'], index = source_of_variation)\n",
    "print(df)"
   ]
  },
  {
   "cell_type": "markdown",
   "metadata": {},
   "source": [
    "##### Inference :\n",
    "\n",
    "1. *R-sqaured  (extent of fit)* - 0.749  - `75%` variance explained."
   ]
  }
 ],
 "metadata": {
  "kernelspec": {
   "display_name": "Python 3",
   "language": "python",
   "name": "python3"
  },
  "language_info": {
   "codemirror_mode": {
    "name": "ipython",
    "version": 3
   },
   "file_extension": ".py",
   "mimetype": "text/x-python",
   "name": "python",
   "nbconvert_exporter": "python",
   "pygments_lexer": "ipython3",
   "version": "3.8.3"
  }
 },
 "nbformat": 4,
 "nbformat_minor": 4
}
