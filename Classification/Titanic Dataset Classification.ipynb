{
 "cells": [
  {
   "cell_type": "markdown",
   "metadata": {},
   "source": [
    "Dataset link - https://www.kaggle.com/c/titanic/data"
   ]
  },
  {
   "cell_type": "code",
   "execution_count": 3,
   "metadata": {
    "_cell_guid": "b1076dfc-b9ad-4769-8c92-a6c4dae69d19",
    "_uuid": "8f2839f25d086af736a60e9eeb907d3b93b6e0e5",
    "execution": {
     "iopub.execute_input": "2022-02-06T16:02:56.157875Z",
     "iopub.status.busy": "2022-02-06T16:02:56.157464Z",
     "iopub.status.idle": "2022-02-06T16:02:56.167164Z",
     "shell.execute_reply": "2022-02-06T16:02:56.166328Z",
     "shell.execute_reply.started": "2022-02-06T16:02:56.157842Z"
    }
   },
   "outputs": [],
   "source": [
    "# This Python 3 environment comes with many helpful analytics libraries installed\n",
    "# It is defined by the kaggle/python Docker image: https://github.com/kaggle/docker-python\n",
    "# For example, here's several helpful packages to load\n",
    "\n",
    "import numpy as np # linear algebra\n",
    "import pandas as pd # data processing, CSV file I/O (e.g. pd.read_csv)\n",
    "\n",
    "# Input data files are available in the read-only \"../input/\" directory\n",
    "# For example, running this (by clicking run or pressing Shift+Enter) will list all files under the input directory\n",
    "\n",
    "import os\n",
    "for dirname, _, filenames in os.walk('/kaggle/input'):\n",
    "    for filename in filenames:\n",
    "        print(os.path.join(dirname, filename))\n",
    "\n",
    "# You can write up to 20GB to the current directory (/kaggle/working/) that gets preserved as output when you create a version using \"Save & Run All\" \n",
    "# You can also write temporary files to /kaggle/temp/, but they won't be saved outside of the current session"
   ]
  },
  {
   "cell_type": "markdown",
   "metadata": {},
   "source": [
    "## Import Modules"
   ]
  },
  {
   "cell_type": "code",
   "execution_count": 1,
   "metadata": {
    "execution": {
     "iopub.execute_input": "2022-02-06T16:02:56.170795Z",
     "iopub.status.busy": "2022-02-06T16:02:56.169695Z",
     "iopub.status.idle": "2022-02-06T16:02:57.279905Z",
     "shell.execute_reply": "2022-02-06T16:02:57.278915Z",
     "shell.execute_reply.started": "2022-02-06T16:02:56.170734Z"
    }
   },
   "outputs": [],
   "source": [
    "import pandas as pd\n",
    "import numpy as np\n",
    "import seaborn as sns\n",
    "import matplotlib.pyplot as plt\n",
    "import warnings\n",
    "warnings.filterwarnings('ignore')\n",
    "%matplotlib inline"
   ]
  },
  {
   "cell_type": "markdown",
   "metadata": {},
   "source": [
    "## Loading Dataset"
   ]
  },
  {
   "cell_type": "code",
   "execution_count": 5,
   "metadata": {
    "execution": {
     "iopub.execute_input": "2022-02-06T16:02:57.281062Z",
     "iopub.status.busy": "2022-02-06T16:02:57.280857Z",
     "iopub.status.idle": "2022-02-06T16:02:57.314022Z",
     "shell.execute_reply": "2022-02-06T16:02:57.313024Z",
     "shell.execute_reply.started": "2022-02-06T16:02:57.281037Z"
    }
   },
   "outputs": [],
   "source": [
    "train = pd.read_csv('/kaggle/input/titanic/train.csv')\n",
    "test = pd.read_csv('/kaggle/input/titanic/test.csv')"
   ]
  },
  {
   "cell_type": "code",
   "execution_count": 6,
   "metadata": {
    "execution": {
     "iopub.execute_input": "2022-02-06T16:02:57.315475Z",
     "iopub.status.busy": "2022-02-06T16:02:57.315219Z",
     "iopub.status.idle": "2022-02-06T16:02:57.342114Z",
     "shell.execute_reply": "2022-02-06T16:02:57.341042Z",
     "shell.execute_reply.started": "2022-02-06T16:02:57.315447Z"
    }
   },
   "outputs": [],
   "source": [
    "train.head()"
   ]
  },
  {
   "cell_type": "markdown",
   "metadata": {},
   "source": [
    "## Overview of the training data"
   ]
  },
  {
   "cell_type": "code",
   "execution_count": 7,
   "metadata": {
    "execution": {
     "iopub.execute_input": "2022-02-06T16:02:57.344661Z",
     "iopub.status.busy": "2022-02-06T16:02:57.344052Z",
     "iopub.status.idle": "2022-02-06T16:02:57.388471Z",
     "shell.execute_reply": "2022-02-06T16:02:57.387686Z",
     "shell.execute_reply.started": "2022-02-06T16:02:57.344625Z"
    }
   },
   "outputs": [],
   "source": [
    "# Statistical analysis\n",
    "\n",
    "train.describe()"
   ]
  },
  {
   "cell_type": "code",
   "execution_count": 8,
   "metadata": {
    "execution": {
     "iopub.execute_input": "2022-02-06T16:02:57.390601Z",
     "iopub.status.busy": "2022-02-06T16:02:57.389953Z",
     "iopub.status.idle": "2022-02-06T16:02:57.407888Z",
     "shell.execute_reply": "2022-02-06T16:02:57.407282Z",
     "shell.execute_reply.started": "2022-02-06T16:02:57.390567Z"
    }
   },
   "outputs": [],
   "source": [
    "# Datatype info\n",
    "train.info()\n",
    "\n",
    "# Inference - We have null values in age and cabin columns"
   ]
  },
  {
   "cell_type": "markdown",
   "metadata": {},
   "source": [
    "## Exploratory data analysis"
   ]
  },
  {
   "cell_type": "markdown",
   "metadata": {},
   "source": [
    "#### Categorical Attributes"
   ]
  },
  {
   "cell_type": "code",
   "execution_count": 9,
   "metadata": {
    "execution": {
     "iopub.execute_input": "2022-02-06T16:02:57.409503Z",
     "iopub.status.busy": "2022-02-06T16:02:57.408911Z",
     "iopub.status.idle": "2022-02-06T16:02:57.578661Z",
     "shell.execute_reply": "2022-02-06T16:02:57.577836Z",
     "shell.execute_reply.started": "2022-02-06T16:02:57.409469Z"
    }
   },
   "outputs": [],
   "source": [
    "sns.countplot(train['Survived'])\n",
    "\n",
    "# Inference - (Unbalanced) Number of people who died is more"
   ]
  },
  {
   "cell_type": "code",
   "execution_count": 10,
   "metadata": {
    "execution": {
     "iopub.execute_input": "2022-02-06T16:02:57.579995Z",
     "iopub.status.busy": "2022-02-06T16:02:57.579778Z",
     "iopub.status.idle": "2022-02-06T16:02:57.757332Z",
     "shell.execute_reply": "2022-02-06T16:02:57.756689Z",
     "shell.execute_reply.started": "2022-02-06T16:02:57.579967Z"
    }
   },
   "outputs": [],
   "source": [
    "sns.countplot(train['Pclass'])\n",
    "\n",
    "# Inference - (Unbalanced) Number of people in 3rd class is way more"
   ]
  },
  {
   "cell_type": "code",
   "execution_count": 11,
   "metadata": {
    "execution": {
     "iopub.execute_input": "2022-02-06T16:02:57.759413Z",
     "iopub.status.busy": "2022-02-06T16:02:57.758439Z",
     "iopub.status.idle": "2022-02-06T16:02:57.938379Z",
     "shell.execute_reply": "2022-02-06T16:02:57.937743Z",
     "shell.execute_reply.started": "2022-02-06T16:02:57.759361Z"
    }
   },
   "outputs": [],
   "source": [
    "sns.countplot(train['Sex'])\n",
    "\n",
    "# Inference - (Unbalanced) Number of males is more"
   ]
  },
  {
   "cell_type": "code",
   "execution_count": 12,
   "metadata": {
    "execution": {
     "iopub.execute_input": "2022-02-06T16:02:57.940184Z",
     "iopub.status.busy": "2022-02-06T16:02:57.939751Z",
     "iopub.status.idle": "2022-02-06T16:02:58.164498Z",
     "shell.execute_reply": "2022-02-06T16:02:58.163432Z",
     "shell.execute_reply.started": "2022-02-06T16:02:57.940152Z"
    }
   },
   "outputs": [],
   "source": [
    "sns.countplot(train['SibSp'])\n",
    "\n",
    "# Inference - (Unbalanced) Single person are more (No sibling or spouse)"
   ]
  },
  {
   "cell_type": "code",
   "execution_count": 13,
   "metadata": {
    "execution": {
     "iopub.execute_input": "2022-02-06T16:02:58.166594Z",
     "iopub.status.busy": "2022-02-06T16:02:58.165625Z",
     "iopub.status.idle": "2022-02-06T16:02:58.381973Z",
     "shell.execute_reply": "2022-02-06T16:02:58.381015Z",
     "shell.execute_reply.started": "2022-02-06T16:02:58.166559Z"
    }
   },
   "outputs": [],
   "source": [
    "sns.countplot(train['Parch'])\n",
    "\n",
    "# Inference - (Unbalanced) Single person are more (No parents or children)"
   ]
  },
  {
   "cell_type": "code",
   "execution_count": 14,
   "metadata": {
    "execution": {
     "iopub.execute_input": "2022-02-06T16:02:58.383901Z",
     "iopub.status.busy": "2022-02-06T16:02:58.383464Z",
     "iopub.status.idle": "2022-02-06T16:02:58.574984Z",
     "shell.execute_reply": "2022-02-06T16:02:58.574206Z",
     "shell.execute_reply.started": "2022-02-06T16:02:58.383865Z"
    }
   },
   "outputs": [],
   "source": [
    "sns.countplot(train['Embarked'])\n",
    "\n",
    "# Inference - More people embarked from S = Southampton port"
   ]
  },
  {
   "cell_type": "markdown",
   "metadata": {},
   "source": [
    "#### Numerical Attributes"
   ]
  },
  {
   "cell_type": "code",
   "execution_count": 15,
   "metadata": {
    "execution": {
     "iopub.execute_input": "2022-02-06T16:02:58.576488Z",
     "iopub.status.busy": "2022-02-06T16:02:58.576235Z",
     "iopub.status.idle": "2022-02-06T16:02:58.869828Z",
     "shell.execute_reply": "2022-02-06T16:02:58.869063Z",
     "shell.execute_reply.started": "2022-02-06T16:02:58.576458Z"
    }
   },
   "outputs": [],
   "source": [
    "sns.distplot(train['Age'])\n",
    "\n",
    "# Inference - (Bell shaped curve) there are more people of age between 20-35"
   ]
  },
  {
   "cell_type": "code",
   "execution_count": 16,
   "metadata": {
    "execution": {
     "iopub.execute_input": "2022-02-06T16:02:58.872760Z",
     "iopub.status.busy": "2022-02-06T16:02:58.872302Z",
     "iopub.status.idle": "2022-02-06T16:02:59.227697Z",
     "shell.execute_reply": "2022-02-06T16:02:59.226907Z",
     "shell.execute_reply.started": "2022-02-06T16:02:58.872723Z"
    }
   },
   "outputs": [],
   "source": [
    "sns.distplot(train['Fare'])\n",
    "\n",
    "# Inference - As number of people in 3rd class is more, fare in range of $10-50 has \n",
    "# high density "
   ]
  },
  {
   "cell_type": "code",
   "execution_count": 17,
   "metadata": {
    "execution": {
     "iopub.execute_input": "2022-02-06T16:02:59.229798Z",
     "iopub.status.busy": "2022-02-06T16:02:59.229259Z",
     "iopub.status.idle": "2022-02-06T16:02:59.446329Z",
     "shell.execute_reply": "2022-02-06T16:02:59.445575Z",
     "shell.execute_reply.started": "2022-02-06T16:02:59.229752Z"
    }
   },
   "outputs": [],
   "source": [
    "class_fare = train.pivot_table(index='Pclass', values='Fare')\n",
    "class_fare.plot(kind='bar')\n",
    "plt.xlabel('Pclass')\n",
    "plt.ylabel('Avg. Fare')\n",
    "plt.xticks(rotation=0)\n",
    "plt.show()"
   ]
  },
  {
   "cell_type": "code",
   "execution_count": 18,
   "metadata": {
    "execution": {
     "iopub.execute_input": "2022-02-06T16:02:59.447623Z",
     "iopub.status.busy": "2022-02-06T16:02:59.447399Z",
     "iopub.status.idle": "2022-02-06T16:02:59.638985Z",
     "shell.execute_reply": "2022-02-06T16:02:59.638246Z",
     "shell.execute_reply.started": "2022-02-06T16:02:59.447594Z"
    }
   },
   "outputs": [],
   "source": [
    "class_fare = train.pivot_table(index=['Pclass'], values=['Fare'], aggfunc=np.sum)\n",
    "class_fare.plot(kind='bar')\n",
    "plt.xlabel('Pclass')\n",
    "plt.ylabel('Total Fare')\n",
    "plt.xticks(rotation=0)\n",
    "plt.show()"
   ]
  },
  {
   "cell_type": "code",
   "execution_count": 19,
   "metadata": {
    "execution": {
     "iopub.execute_input": "2022-02-06T16:02:59.640411Z",
     "iopub.status.busy": "2022-02-06T16:02:59.640025Z",
     "iopub.status.idle": "2022-02-06T16:03:00.082601Z",
     "shell.execute_reply": "2022-02-06T16:03:00.081910Z",
     "shell.execute_reply.started": "2022-02-06T16:02:59.640381Z"
    }
   },
   "outputs": [],
   "source": [
    "sns.barplot(data=train, x='Pclass', y='Fare', hue='Survived')"
   ]
  },
  {
   "cell_type": "code",
   "execution_count": 20,
   "metadata": {
    "execution": {
     "iopub.execute_input": "2022-02-06T16:03:00.084203Z",
     "iopub.status.busy": "2022-02-06T16:03:00.083702Z",
     "iopub.status.idle": "2022-02-06T16:03:00.639306Z",
     "shell.execute_reply": "2022-02-06T16:03:00.638441Z",
     "shell.execute_reply.started": "2022-02-06T16:03:00.084170Z"
    }
   },
   "outputs": [],
   "source": [
    "sns.barplot(data=train, x='Survived', y='Fare', hue='Pclass')"
   ]
  },
  {
   "cell_type": "markdown",
   "metadata": {},
   "source": [
    "## Data Preprocessing"
   ]
  },
  {
   "cell_type": "code",
   "execution_count": 21,
   "metadata": {
    "execution": {
     "iopub.execute_input": "2022-02-06T16:03:00.640579Z",
     "iopub.status.busy": "2022-02-06T16:03:00.640376Z",
     "iopub.status.idle": "2022-02-06T16:03:00.663401Z",
     "shell.execute_reply": "2022-02-06T16:03:00.662767Z",
     "shell.execute_reply.started": "2022-02-06T16:03:00.640553Z"
    }
   },
   "outputs": [],
   "source": [
    "train_len = len(train)\n",
    "# Combining the two dataframes\n",
    "df = pd.concat([train, test], axis=0)      # concat row wise\n",
    "df = df.reset_index(drop=True)\n",
    "df.head()"
   ]
  },
  {
   "cell_type": "code",
   "execution_count": 22,
   "metadata": {
    "execution": {
     "iopub.execute_input": "2022-02-06T16:03:24.581107Z",
     "iopub.status.busy": "2022-02-06T16:03:24.580660Z",
     "iopub.status.idle": "2022-02-06T16:03:24.597663Z",
     "shell.execute_reply": "2022-02-06T16:03:24.596713Z",
     "shell.execute_reply.started": "2022-02-06T16:03:24.581062Z"
    }
   },
   "outputs": [],
   "source": [
    "df.tail()"
   ]
  },
  {
   "cell_type": "code",
   "execution_count": 25,
   "metadata": {
    "execution": {
     "iopub.execute_input": "2022-02-06T16:04:18.682294Z",
     "iopub.status.busy": "2022-02-06T16:04:18.681098Z",
     "iopub.status.idle": "2022-02-06T16:04:18.691416Z",
     "shell.execute_reply": "2022-02-06T16:04:18.690426Z",
     "shell.execute_reply.started": "2022-02-06T16:04:18.682233Z"
    }
   },
   "outputs": [],
   "source": [
    "# Find the null values\n",
    "df.isnull().sum()\n",
    "\n",
    "# Column Cabin has large number of null values so we will drop that column\n",
    "# We will fill other null values "
   ]
  },
  {
   "cell_type": "code",
   "execution_count": 26,
   "metadata": {
    "execution": {
     "iopub.execute_input": "2022-02-06T16:05:33.421949Z",
     "iopub.status.busy": "2022-02-06T16:05:33.421660Z",
     "iopub.status.idle": "2022-02-06T16:05:33.427703Z",
     "shell.execute_reply": "2022-02-06T16:05:33.426694Z",
     "shell.execute_reply.started": "2022-02-06T16:05:33.421918Z"
    }
   },
   "outputs": [],
   "source": [
    "df = df.drop(columns=['Cabin'], axis=1)"
   ]
  },
  {
   "cell_type": "code",
   "execution_count": 27,
   "metadata": {
    "execution": {
     "iopub.execute_input": "2022-02-06T16:07:01.262997Z",
     "iopub.status.busy": "2022-02-06T16:07:01.262463Z",
     "iopub.status.idle": "2022-02-06T16:07:01.268410Z",
     "shell.execute_reply": "2022-02-06T16:07:01.267766Z",
     "shell.execute_reply.started": "2022-02-06T16:07:01.262960Z"
    }
   },
   "outputs": [],
   "source": [
    "# fill missing values using mean of the numerical column\n",
    "\n",
    "df['Age'] = df['Age'].fillna(df['Age'].mean())"
   ]
  },
  {
   "cell_type": "code",
   "execution_count": 28,
   "metadata": {
    "execution": {
     "iopub.execute_input": "2022-02-06T16:07:22.872439Z",
     "iopub.status.busy": "2022-02-06T16:07:22.871916Z",
     "iopub.status.idle": "2022-02-06T16:07:22.877943Z",
     "shell.execute_reply": "2022-02-06T16:07:22.877044Z",
     "shell.execute_reply.started": "2022-02-06T16:07:22.872405Z"
    }
   },
   "outputs": [],
   "source": [
    "df['Fare'] = df['Fare'].fillna(df['Fare'].mean())"
   ]
  },
  {
   "cell_type": "code",
   "execution_count": 32,
   "metadata": {
    "execution": {
     "iopub.execute_input": "2022-02-06T16:10:33.480694Z",
     "iopub.status.busy": "2022-02-06T16:10:33.479378Z",
     "iopub.status.idle": "2022-02-06T16:10:33.487998Z",
     "shell.execute_reply": "2022-02-06T16:10:33.487111Z",
     "shell.execute_reply.started": "2022-02-06T16:10:33.480649Z"
    }
   },
   "outputs": [],
   "source": [
    "# fill missing values using mode of the categorical column\n",
    "\n",
    "df['Embarked'] = df['Embarked'].fillna(df['Embarked'].mode()[0])"
   ]
  },
  {
   "cell_type": "markdown",
   "metadata": {},
   "source": [
    "## Log Transformation for uniform data distribution"
   ]
  },
  {
   "cell_type": "code",
   "execution_count": 38,
   "metadata": {
    "execution": {
     "iopub.execute_input": "2022-02-06T16:14:44.202985Z",
     "iopub.status.busy": "2022-02-06T16:14:44.202236Z",
     "iopub.status.idle": "2022-02-06T16:14:44.539002Z",
     "shell.execute_reply": "2022-02-06T16:14:44.538066Z",
     "shell.execute_reply.started": "2022-02-06T16:14:44.202921Z"
    }
   },
   "outputs": [],
   "source": [
    "sns.distplot(df['Fare'])"
   ]
  },
  {
   "cell_type": "code",
   "execution_count": 39,
   "metadata": {
    "execution": {
     "iopub.execute_input": "2022-02-06T16:15:20.247565Z",
     "iopub.status.busy": "2022-02-06T16:15:20.247201Z",
     "iopub.status.idle": "2022-02-06T16:15:20.254954Z",
     "shell.execute_reply": "2022-02-06T16:15:20.253753Z",
     "shell.execute_reply.started": "2022-02-06T16:15:20.247530Z"
    }
   },
   "outputs": [],
   "source": [
    "df['Fare'] = np.log(df['Fare']+1)"
   ]
  },
  {
   "cell_type": "code",
   "execution_count": 40,
   "metadata": {
    "execution": {
     "iopub.execute_input": "2022-02-06T16:15:24.742591Z",
     "iopub.status.busy": "2022-02-06T16:15:24.741440Z",
     "iopub.status.idle": "2022-02-06T16:15:25.030384Z",
     "shell.execute_reply": "2022-02-06T16:15:25.029496Z",
     "shell.execute_reply.started": "2022-02-06T16:15:24.742487Z"
    }
   },
   "outputs": [],
   "source": [
    "sns.distplot(df['Fare'])"
   ]
  },
  {
   "cell_type": "markdown",
   "metadata": {},
   "source": [
    "## Correlation Matrix"
   ]
  },
  {
   "cell_type": "code",
   "execution_count": 42,
   "metadata": {
    "execution": {
     "iopub.execute_input": "2022-02-06T16:17:25.612808Z",
     "iopub.status.busy": "2022-02-06T16:17:25.612249Z",
     "iopub.status.idle": "2022-02-06T16:17:26.180075Z",
     "shell.execute_reply": "2022-02-06T16:17:26.179095Z",
     "shell.execute_reply.started": "2022-02-06T16:17:25.612774Z"
    }
   },
   "outputs": [],
   "source": [
    "corr = df.corr()\n",
    "plt.figure(figsize=(15,9))\n",
    "sns.heatmap(corr, annot=True, cmap='coolwarm')\n",
    "\n",
    "# As seen previously also, Pclass ans Fare have high correlation"
   ]
  },
  {
   "cell_type": "code",
   "execution_count": 43,
   "metadata": {
    "execution": {
     "iopub.execute_input": "2022-02-06T16:20:39.721448Z",
     "iopub.status.busy": "2022-02-06T16:20:39.721168Z",
     "iopub.status.idle": "2022-02-06T16:20:39.739555Z",
     "shell.execute_reply": "2022-02-06T16:20:39.738399Z",
     "shell.execute_reply.started": "2022-02-06T16:20:39.721420Z"
    }
   },
   "outputs": [],
   "source": [
    "df.head()"
   ]
  },
  {
   "cell_type": "code",
   "execution_count": 44,
   "metadata": {
    "execution": {
     "iopub.execute_input": "2022-02-06T16:21:27.122191Z",
     "iopub.status.busy": "2022-02-06T16:21:27.121897Z",
     "iopub.status.idle": "2022-02-06T16:21:27.128826Z",
     "shell.execute_reply": "2022-02-06T16:21:27.128014Z",
     "shell.execute_reply.started": "2022-02-06T16:21:27.122161Z"
    }
   },
   "outputs": [],
   "source": [
    "# Drop unnecessary columns\n",
    "\n",
    "df = df.drop(columns=['Name','Ticket'], axis=1)"
   ]
  },
  {
   "cell_type": "code",
   "execution_count": 45,
   "metadata": {
    "execution": {
     "iopub.execute_input": "2022-02-06T16:21:32.061906Z",
     "iopub.status.busy": "2022-02-06T16:21:32.061435Z",
     "iopub.status.idle": "2022-02-06T16:21:32.079397Z",
     "shell.execute_reply": "2022-02-06T16:21:32.078149Z",
     "shell.execute_reply.started": "2022-02-06T16:21:32.061873Z"
    }
   },
   "outputs": [],
   "source": [
    "df.head()"
   ]
  },
  {
   "cell_type": "markdown",
   "metadata": {},
   "source": [
    "## Label Encoding"
   ]
  },
  {
   "cell_type": "code",
   "execution_count": 46,
   "metadata": {
    "execution": {
     "iopub.execute_input": "2022-02-06T16:24:18.693492Z",
     "iopub.status.busy": "2022-02-06T16:24:18.693198Z",
     "iopub.status.idle": "2022-02-06T16:24:18.868819Z",
     "shell.execute_reply": "2022-02-06T16:24:18.867675Z",
     "shell.execute_reply.started": "2022-02-06T16:24:18.693463Z"
    }
   },
   "outputs": [],
   "source": [
    "from sklearn.preprocessing import LabelEncoder\n",
    "cols = ['Sex','Embarked']\n",
    "le = LabelEncoder()\n",
    "\n",
    "for col in cols:\n",
    "    df[col] = le.fit_transform(df[col])\n",
    "    \n",
    "df.head()"
   ]
  },
  {
   "cell_type": "markdown",
   "metadata": {},
   "source": [
    "## Train-Test Split"
   ]
  },
  {
   "cell_type": "code",
   "execution_count": 50,
   "metadata": {
    "execution": {
     "iopub.execute_input": "2022-02-06T16:30:39.787308Z",
     "iopub.status.busy": "2022-02-06T16:30:39.786879Z",
     "iopub.status.idle": "2022-02-06T16:30:39.793058Z",
     "shell.execute_reply": "2022-02-06T16:30:39.792503Z",
     "shell.execute_reply.started": "2022-02-06T16:30:39.787261Z"
    }
   },
   "outputs": [],
   "source": [
    "train = df.iloc[:train_len, :]\n",
    "test = df.iloc[train_len:, :]"
   ]
  },
  {
   "cell_type": "code",
   "execution_count": 51,
   "metadata": {
    "execution": {
     "iopub.execute_input": "2022-02-06T16:30:44.801903Z",
     "iopub.status.busy": "2022-02-06T16:30:44.801142Z",
     "iopub.status.idle": "2022-02-06T16:30:44.815391Z",
     "shell.execute_reply": "2022-02-06T16:30:44.814762Z",
     "shell.execute_reply.started": "2022-02-06T16:30:44.801863Z"
    }
   },
   "outputs": [],
   "source": [
    "train.head()"
   ]
  },
  {
   "cell_type": "code",
   "execution_count": 54,
   "metadata": {
    "execution": {
     "iopub.execute_input": "2022-02-06T16:31:08.761791Z",
     "iopub.status.busy": "2022-02-06T16:31:08.761508Z",
     "iopub.status.idle": "2022-02-06T16:31:08.778775Z",
     "shell.execute_reply": "2022-02-06T16:31:08.777598Z",
     "shell.execute_reply.started": "2022-02-06T16:31:08.761761Z"
    }
   },
   "outputs": [],
   "source": [
    "test.head()"
   ]
  },
  {
   "cell_type": "code",
   "execution_count": 55,
   "metadata": {
    "execution": {
     "iopub.execute_input": "2022-02-06T16:32:14.763260Z",
     "iopub.status.busy": "2022-02-06T16:32:14.762401Z",
     "iopub.status.idle": "2022-02-06T16:32:14.769631Z",
     "shell.execute_reply": "2022-02-06T16:32:14.768863Z",
     "shell.execute_reply.started": "2022-02-06T16:32:14.763221Z"
    }
   },
   "outputs": [],
   "source": [
    "# Input Split\n",
    "\n",
    "x = train.drop(columns=['Survived', 'PassengerId'], axis=1)\n",
    "y = train['Survived']"
   ]
  },
  {
   "cell_type": "code",
   "execution_count": 56,
   "metadata": {
    "execution": {
     "iopub.execute_input": "2022-02-06T16:32:25.142725Z",
     "iopub.status.busy": "2022-02-06T16:32:25.142179Z",
     "iopub.status.idle": "2022-02-06T16:32:25.156958Z",
     "shell.execute_reply": "2022-02-06T16:32:25.155519Z",
     "shell.execute_reply.started": "2022-02-06T16:32:25.142688Z"
    }
   },
   "outputs": [],
   "source": [
    "x.head()"
   ]
  },
  {
   "cell_type": "markdown",
   "metadata": {},
   "source": [
    "## Model Training"
   ]
  },
  {
   "cell_type": "code",
   "execution_count": 57,
   "metadata": {
    "execution": {
     "iopub.execute_input": "2022-02-06T16:37:30.027070Z",
     "iopub.status.busy": "2022-02-06T16:37:30.026744Z",
     "iopub.status.idle": "2022-02-06T16:37:30.090212Z",
     "shell.execute_reply": "2022-02-06T16:37:30.089615Z",
     "shell.execute_reply.started": "2022-02-06T16:37:30.027037Z"
    }
   },
   "outputs": [],
   "source": [
    "from sklearn.model_selection import train_test_split, cross_val_score\n",
    "\n",
    "def classify(model):\n",
    "    x_train, x_test, y_train, y_test = train_test_split(x, y, test_size=.25, random_state=42)\n",
    "    model.fit(x_train, y_train)\n",
    "    accuracy = model.score(x_test, y_test)\n",
    "    print(\"Accuracy: \", accuracy)\n",
    "    \n",
    "    score = cross_val_score(model, x, y, cv=5)\n",
    "    print(\"CV Score: \", np.mean(score))"
   ]
  },
  {
   "cell_type": "markdown",
   "metadata": {},
   "source": [
    "### Logistic Regression"
   ]
  },
  {
   "cell_type": "code",
   "execution_count": 58,
   "metadata": {
    "execution": {
     "iopub.execute_input": "2022-02-06T16:38:07.111188Z",
     "iopub.status.busy": "2022-02-06T16:38:07.110331Z",
     "iopub.status.idle": "2022-02-06T16:38:07.421048Z",
     "shell.execute_reply": "2022-02-06T16:38:07.419868Z",
     "shell.execute_reply.started": "2022-02-06T16:38:07.111151Z"
    }
   },
   "outputs": [],
   "source": [
    "from sklearn.linear_model import LogisticRegression\n",
    "model = LogisticRegression()\n",
    "classify(model)"
   ]
  },
  {
   "cell_type": "markdown",
   "metadata": {},
   "source": [
    "### Decision Tree"
   ]
  },
  {
   "cell_type": "code",
   "execution_count": 60,
   "metadata": {
    "execution": {
     "iopub.execute_input": "2022-02-06T16:39:09.980823Z",
     "iopub.status.busy": "2022-02-06T16:39:09.980137Z",
     "iopub.status.idle": "2022-02-06T16:39:10.037575Z",
     "shell.execute_reply": "2022-02-06T16:39:10.036615Z",
     "shell.execute_reply.started": "2022-02-06T16:39:09.980776Z"
    }
   },
   "outputs": [],
   "source": [
    "from sklearn.tree import DecisionTreeClassifier\n",
    "model = DecisionTreeClassifier()\n",
    "classify(model)"
   ]
  },
  {
   "cell_type": "markdown",
   "metadata": {},
   "source": [
    "### Random Forest"
   ]
  },
  {
   "cell_type": "code",
   "execution_count": 61,
   "metadata": {
    "execution": {
     "iopub.execute_input": "2022-02-06T16:39:52.962011Z",
     "iopub.status.busy": "2022-02-06T16:39:52.961262Z",
     "iopub.status.idle": "2022-02-06T16:39:54.386900Z",
     "shell.execute_reply": "2022-02-06T16:39:54.385937Z",
     "shell.execute_reply.started": "2022-02-06T16:39:52.961934Z"
    }
   },
   "outputs": [],
   "source": [
    "from sklearn.ensemble import RandomForestClassifier\n",
    "model = RandomForestClassifier()\n",
    "classify(model)"
   ]
  },
  {
   "cell_type": "markdown",
   "metadata": {},
   "source": [
    "### Extra Tree Classifier"
   ]
  },
  {
   "cell_type": "code",
   "execution_count": 62,
   "metadata": {
    "execution": {
     "iopub.execute_input": "2022-02-06T16:40:13.522136Z",
     "iopub.status.busy": "2022-02-06T16:40:13.521856Z",
     "iopub.status.idle": "2022-02-06T16:40:14.604587Z",
     "shell.execute_reply": "2022-02-06T16:40:14.603894Z",
     "shell.execute_reply.started": "2022-02-06T16:40:13.522108Z"
    }
   },
   "outputs": [],
   "source": [
    "from sklearn.ensemble import ExtraTreesClassifier\n",
    "model = ExtraTreesClassifier()\n",
    "classify(model)"
   ]
  }
 ],
 "metadata": {
  "kernelspec": {
   "display_name": "Python 3",
   "language": "python",
   "name": "python3"
  },
  "language_info": {
   "codemirror_mode": {
    "name": "ipython",
    "version": 3
   },
   "file_extension": ".py",
   "mimetype": "text/x-python",
   "name": "python",
   "nbconvert_exporter": "python",
   "pygments_lexer": "ipython3",
   "version": "3.8.3"
  }
 },
 "nbformat": 4,
 "nbformat_minor": 4
}
