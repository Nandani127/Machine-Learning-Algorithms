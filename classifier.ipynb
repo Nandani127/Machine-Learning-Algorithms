{
 "cells": [
  {
   "cell_type": "code",
   "execution_count": 65,
   "metadata": {},
   "outputs": [
    {
     "name": "stdout",
     "output_type": "stream",
     "text": [
      "X matrix is :\n",
      " [[0 0]\n",
      " [1 1]\n",
      " [0 1]\n",
      " [1 0]]\n",
      "\n",
      "Y matrix is :\n",
      " [[0]\n",
      " [1]\n",
      " [0]\n",
      " [0]]\n",
      "\n",
      "Data of class 1 is - \n",
      " [[0 0]\n",
      " [0 1]\n",
      " [1 0]]\n",
      "\n",
      "Data of class 2 is - \n",
      " [[1 1]]\n"
     ]
    },
    {
     "data": {
      "image/png": "[encoded data removed]",
      "text/plain": [
       "<Figure size 432x288 with 1 Axes>"
      ]
     },
     "metadata": {
      "needs_background": "light"
     },
     "output_type": "display_data"
    },
    {
     "name": "stdout",
     "output_type": "stream",
     "text": [
      "\n",
      "Mean vector for class 1 - \n",
      " [[0.33333333]\n",
      " [0.33333333]]\n",
      "\n",
      "Mean vector for class 2 - \n",
      " [[1.]\n",
      " [1.]]\n",
      "\n",
      "Prior probability for class 1 :  0.75\n",
      "\n",
      "Prior probability for class 2 :  0.25\n",
      "\n",
      "Covariance matrix of the data set -\n",
      " [[ 0.33333333 -0.16666667]\n",
      " [-0.16666667  0.33333333]]\n",
      "a0 is :  [[-1.56805438]]\n",
      "\n",
      "a1 is :  [-4.]\n",
      "\n",
      "a2 is :  [-4.]\n",
      "\n",
      "The decision boundary is : -1.568 + -4.000 * x1 + -4.000 * x2 = 0\n"
     ]
    }
   ],
   "source": [
    "import numpy as np\n",
    "import matplotlib.pyplot as plt\n",
    "from math import log\n",
    "\n",
    "# setting the matrices\n",
    "x = np.array([[0,0],[1,1],[0,1],[1,0]])\n",
    "print(\"X matrix is :\\n\",x)\n",
    "y = np.array([0,1,0,0])\n",
    "Y = y.reshape(4,1)\n",
    "print(\"\\nY matrix is :\\n\",Y)\n",
    "\n",
    "# Classifying data according to class\n",
    "loc1 = np.where(y == 0)\n",
    "loc2 = np.where(y == 1)\n",
    "x1 = x[loc1]\n",
    "x2 = x[loc2]\n",
    "print(\"\\nData of class 1 is - \\n\",x1)\n",
    "print(\"\\nData of class 2 is - \\n\",x2)\n",
    "\n",
    "#data visualization\n",
    "plt.plot(x1,'g*', x2, 'ro')    \n",
    "plt.xlim([-0.5,1.5])\n",
    "plt.ylim([-0.5,1.5])\n",
    "plt.title(\"Visualizing data\")\n",
    "plt.show()\n",
    "\n",
    "# Calculating mean vector\n",
    "mean_1 = np.mean(x1,axis = 0).reshape(2,1)\n",
    "print(\"\\nMean vector for class 1 - \\n\",mean_1)\n",
    "mean_2 = np.mean(x2, axis = 0).reshape(2,1)\n",
    "print(\"\\nMean vector for class 2 - \\n\",mean_2)\n",
    "\n",
    "# Calculating prior probabilities\n",
    "pie_1 = x1.shape[0]/y.shape[0]\n",
    "print(\"\\nPrior probability for class 1 : \",pie_1)\n",
    "pie_2 = x2.shape[0]/y.shape[0]\n",
    "print(\"\\nPrior probability for class 2 : \",pie_2)\n",
    "\n",
    "# Calculating covariance matrix\n",
    "cov = np.cov(x1[:,0],x1[:,1])\n",
    "\n",
    "print(\"\\nCovariance matrix of the data set -\\n\",cov)\n",
    "\n",
    "# Defining the linear discriminant function\n",
    "a0 = log(pie_1/pie_2) - (np.transpose(mean_1 - mean_2) @ np.linalg.inv(cov) @ (mean_1-mean_2))/2\n",
    "print(\"a0 is : \",a0)\n",
    "\n",
    "mu1_mu2 = mean_1 - mean_2\n",
    "mu1_mu2_t = np.transpose(mu1_mu2)\n",
    "cov_inv = np.linalg.inv(cov)\n",
    "\n",
    "rem = cov_inv @ mu1_mu2\n",
    "a1 = rem[0]\n",
    "a2 = rem[1]\n",
    "print(\"\\na1 is : \",a1)\n",
    "print(\"\\na2 is : \",a2)\n",
    "\n",
    "# Decision boundary\n",
    "print(\"\\nThe decision boundary is : {:.3f} + {:.3f} * x1 + {:.3f} * x2 = 0\".format(a0[0][0],a1[0],\n",
    "                                                                                   a2[0]))"
   ]
  }
 ],
 "metadata": {
  "kernelspec": {
   "display_name": "Python 3",
   "language": "python",
   "name": "python3"
  },
  "language_info": {
   "codemirror_mode": {
    "name": "ipython",
    "version": 3
   },
   "file_extension": ".py",
   "mimetype": "text/x-python",
   "name": "python",
   "nbconvert_exporter": "python",
   "pygments_lexer": "ipython3",
   "version": "3.8.3"
  }
 },
 "nbformat": 4,
 "nbformat_minor": 4
}
